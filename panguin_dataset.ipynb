{
  "nbformat": 4,
  "nbformat_minor": 0,
  "metadata": {
    "colab": {
      "provenance": [],
      "authorship_tag": "ABX9TyNiTq9tK563aOsQHzGtYaFy",
      "include_colab_link": true
    },
    "kernelspec": {
      "name": "python3",
      "display_name": "Python 3"
    },
    "language_info": {
      "name": "python"
    }
  },
  "cells": [
    {
      "cell_type": "markdown",
      "metadata": {
        "id": "view-in-github",
        "colab_type": "text"
      },
      "source": [
        "<a href=\"https://colab.research.google.com/github/ShabnumBatool/Data-Science-Fundamentals/blob/main/panguin_dataset.ipynb\" target=\"_parent\"><img src=\"https://colab.research.google.com/assets/colab-badge.svg\" alt=\"Open In Colab\"/></a>"
      ]
    },
    {
      "cell_type": "markdown",
      "source": [
        "***Step 1: Load and Understand the Data***\n",
        "We'll use the penguins dataset, which is included with the seaborn library. It's a biological dataset containing physical measurements for three penguin species found in the Palmer Archipelago in Antarctica.\n",
        "\n",
        "\n",
        " First of all we load  dataset into a pandas DataFrame df.\n",
        "\n"
      ],
      "metadata": {
        "id": "2iVnMAQFoSD6"
      }
    },
    {
      "cell_type": "code",
      "execution_count": 1,
      "metadata": {
        "id": "jW50zYJloCoT"
      },
      "outputs": [],
      "source": [
        "import pandas as pd\n",
        "import seaborn as sns\n",
        "\n",
        "# Load the dataset\n",
        "df = sns.load_dataset(\"penguins\")\n"
      ]
    },
    {
      "cell_type": "code",
      "source": [
        "print(\"Shape:\", df.shape)\n",
        "print(\"\\nColumn Data Types:\")\n",
        "print(df.dtypes)\n"
      ],
      "metadata": {
        "colab": {
          "base_uri": "https://localhost:8080/"
        },
        "id": "77OMiFRnot9G",
        "outputId": "edef400a-b6ab-4ce0-8407-ded754261a29"
      },
      "execution_count": 2,
      "outputs": [
        {
          "output_type": "stream",
          "name": "stdout",
          "text": [
            "Shape: (344, 7)\n",
            "\n",
            "Column Data Types:\n",
            "species               object\n",
            "island                object\n",
            "bill_length_mm       float64\n",
            "bill_depth_mm        float64\n",
            "flipper_length_mm    float64\n",
            "body_mass_g          float64\n",
            "sex                   object\n",
            "dtype: object\n"
          ]
        }
      ]
    },
    {
      "cell_type": "code",
      "source": [
        "print(df.head())\n"
      ],
      "metadata": {
        "colab": {
          "base_uri": "https://localhost:8080/"
        },
        "id": "t5FbPD4Qoynu",
        "outputId": "ec24311a-edef-440b-803e-1822858afbc1"
      },
      "execution_count": 3,
      "outputs": [
        {
          "output_type": "stream",
          "name": "stdout",
          "text": [
            "  species     island  bill_length_mm  bill_depth_mm  flipper_length_mm  \\\n",
            "0  Adelie  Torgersen            39.1           18.7              181.0   \n",
            "1  Adelie  Torgersen            39.5           17.4              186.0   \n",
            "2  Adelie  Torgersen            40.3           18.0              195.0   \n",
            "3  Adelie  Torgersen             NaN            NaN                NaN   \n",
            "4  Adelie  Torgersen            36.7           19.3              193.0   \n",
            "\n",
            "   body_mass_g     sex  \n",
            "0       3750.0    Male  \n",
            "1       3800.0  Female  \n",
            "2       3250.0  Female  \n",
            "3          NaN     NaN  \n",
            "4       3450.0  Female  \n"
          ]
        }
      ]
    },
    {
      "cell_type": "code",
      "source": [
        "print(df.describe(include='all'))\n"
      ],
      "metadata": {
        "colab": {
          "base_uri": "https://localhost:8080/"
        },
        "id": "-ctitFQTo41B",
        "outputId": "2f7e6325-ec9d-47d6-8de1-fbfb72ab1180"
      },
      "execution_count": 4,
      "outputs": [
        {
          "output_type": "stream",
          "name": "stdout",
          "text": [
            "       species  island  bill_length_mm  bill_depth_mm  flipper_length_mm  \\\n",
            "count      344     344      342.000000     342.000000         342.000000   \n",
            "unique       3       3             NaN            NaN                NaN   \n",
            "top     Adelie  Biscoe             NaN            NaN                NaN   \n",
            "freq       152     168             NaN            NaN                NaN   \n",
            "mean       NaN     NaN       43.921930      17.151170         200.915205   \n",
            "std        NaN     NaN        5.459584       1.974793          14.061714   \n",
            "min        NaN     NaN       32.100000      13.100000         172.000000   \n",
            "25%        NaN     NaN       39.225000      15.600000         190.000000   \n",
            "50%        NaN     NaN       44.450000      17.300000         197.000000   \n",
            "75%        NaN     NaN       48.500000      18.700000         213.000000   \n",
            "max        NaN     NaN       59.600000      21.500000         231.000000   \n",
            "\n",
            "        body_mass_g   sex  \n",
            "count    342.000000   333  \n",
            "unique          NaN     2  \n",
            "top             NaN  Male  \n",
            "freq            NaN   168  \n",
            "mean    4201.754386   NaN  \n",
            "std      801.954536   NaN  \n",
            "min     2700.000000   NaN  \n",
            "25%     3550.000000   NaN  \n",
            "50%     4050.000000   NaN  \n",
            "75%     4750.000000   NaN  \n",
            "max     6300.000000   NaN  \n"
          ]
        }
      ]
    },
    {
      "cell_type": "markdown",
      "source": [
        "# **Step 2: Handling Missing Values**\n",
        "Missing data can distort the analysis or break machine learning models. So, it’s important to:\n",
        "\n",
        "Detect how much data is missing.\n",
        "\n",
        "Decide whether to drop or impute (fill) it."
      ],
      "metadata": {
        "id": "ynwrBJ-HpIj5"
      }
    },
    {
      "cell_type": "code",
      "source": [
        "#detecting missing values\n",
        "# Count missing values per column\n",
        "print(df.isnull().sum())\n"
      ],
      "metadata": {
        "colab": {
          "base_uri": "https://localhost:8080/"
        },
        "id": "52bgjNKbo9sl",
        "outputId": "df17b039-efc0-42b2-d886-b731c14d5229"
      },
      "execution_count": 5,
      "outputs": [
        {
          "output_type": "stream",
          "name": "stdout",
          "text": [
            "species               0\n",
            "island                0\n",
            "bill_length_mm        2\n",
            "bill_depth_mm         2\n",
            "flipper_length_mm     2\n",
            "body_mass_g           2\n",
            "sex                  11\n",
            "dtype: int64\n"
          ]
        }
      ]
    },
    {
      "cell_type": "code",
      "source": [
        "#Handle Missing Values\n",
        "#For Numerical Columns we will Use Median Imputation because median is Less sensitive to outliers than the mean.\n",
        "for col in df.select_dtypes(include=['float64', 'int64']).columns:\n",
        "    df[col].fillna(df[col].median(), inplace=True)\n",
        "#For Categorical Columns → Use Mode Imputation because mode  fills missing values with the most frequent category.\n",
        "\n",
        "for col in df.select_dtypes(include=['object', 'category']).columns:\n",
        "    df[col].fillna(df[col].mode()[0], inplace=True)\n"
      ],
      "metadata": {
        "colab": {
          "base_uri": "https://localhost:8080/"
        },
        "id": "7bYnP3DZpbfM",
        "outputId": "52d9d0af-0666-4f59-b18e-c052e8921ecd"
      },
      "execution_count": 8,
      "outputs": [
        {
          "output_type": "stream",
          "name": "stderr",
          "text": [
            "<ipython-input-8-aecab616d78f>:4: FutureWarning: A value is trying to be set on a copy of a DataFrame or Series through chained assignment using an inplace method.\n",
            "The behavior will change in pandas 3.0. This inplace method will never work because the intermediate object on which we are setting values always behaves as a copy.\n",
            "\n",
            "For example, when doing 'df[col].method(value, inplace=True)', try using 'df.method({col: value}, inplace=True)' or df[col] = df[col].method(value) instead, to perform the operation inplace on the original object.\n",
            "\n",
            "\n",
            "  df[col].fillna(df[col].median(), inplace=True)\n",
            "<ipython-input-8-aecab616d78f>:8: FutureWarning: A value is trying to be set on a copy of a DataFrame or Series through chained assignment using an inplace method.\n",
            "The behavior will change in pandas 3.0. This inplace method will never work because the intermediate object on which we are setting values always behaves as a copy.\n",
            "\n",
            "For example, when doing 'df[col].method(value, inplace=True)', try using 'df.method({col: value}, inplace=True)' or df[col] = df[col].method(value) instead, to perform the operation inplace on the original object.\n",
            "\n",
            "\n",
            "  df[col].fillna(df[col].mode()[0], inplace=True)\n"
          ]
        }
      ]
    },
    {
      "cell_type": "code",
      "source": [
        "print(df.isnull().sum())\n"
      ],
      "metadata": {
        "colab": {
          "base_uri": "https://localhost:8080/"
        },
        "id": "1G2mLt0FqAsb",
        "outputId": "02214f5e-1f05-432b-aa1a-a4429880e3ea"
      },
      "execution_count": 9,
      "outputs": [
        {
          "output_type": "stream",
          "name": "stdout",
          "text": [
            "species              0\n",
            "island               0\n",
            "bill_length_mm       0\n",
            "bill_depth_mm        0\n",
            "flipper_length_mm    0\n",
            "body_mass_g          0\n",
            "sex                  0\n",
            "dtype: int64\n"
          ]
        }
      ]
    },
    {
      "cell_type": "markdown",
      "source": [
        "# **Step 3: Detecting and Removing Outliers**\n",
        "\n",
        "Outliers are extreme values that can:\n",
        "\n",
        "*   Skew statistical summaries\n",
        "*   Distort machine learning models (especially linear ones)\n",
        "*   Impact scaling and normalization\n",
        "\n",
        "We’ll use the IQR (Interquartile Range) method, which is effective and widely used.\n",
        "\n"
      ],
      "metadata": {
        "id": "nWrJDCevqi93"
      }
    },
    {
      "cell_type": "code",
      "source": [
        "#Identify numerical columns\n",
        "numeric_cols = df.select_dtypes(include=['float64', 'int64']).columns\n",
        "print(numeric_cols)\n"
      ],
      "metadata": {
        "colab": {
          "base_uri": "https://localhost:8080/"
        },
        "id": "6APby6RGqXp3",
        "outputId": "544f5ae1-7287-4f0b-c1be-338f8e6b1079"
      },
      "execution_count": 10,
      "outputs": [
        {
          "output_type": "stream",
          "name": "stdout",
          "text": [
            "Index(['bill_length_mm', 'bill_depth_mm', 'flipper_length_mm', 'body_mass_g'], dtype='object')\n"
          ]
        }
      ]
    },
    {
      "cell_type": "code",
      "source": [
        "#Define IQR Outlier Removal Function\n",
        "def remove_outliers_iqr(data, column):\n",
        "    Q1 = data[column].quantile(0.25)\n",
        "    Q3 = data[column].quantile(0.75)\n",
        "    IQR = Q3 - Q1\n",
        "    lower = Q1 - 1.5 * IQR\n",
        "    upper = Q3 + 1.5 * IQR\n",
        "    return data[(data[column] >= lower) & (data[column] <= upper)]\n"
      ],
      "metadata": {
        "id": "TEdFbP3OrSoH"
      },
      "execution_count": 12,
      "outputs": []
    },
    {
      "cell_type": "code",
      "source": [
        "#Apply Outlier Removal to Each Numeric Column\n",
        "for col in numeric_cols:\n",
        "    df = remove_outliers_iqr(df, col) #This will reduce the number of rows slightly (from 344 to ~330–340 depending on how many outliers were removed)."
      ],
      "metadata": {
        "id": "WbOSOUborXRt"
      },
      "execution_count": 13,
      "outputs": []
    },
    {
      "cell_type": "code",
      "source": [
        "#Confirm the Data Looks Reasonable\n",
        "print(df.describe())\n"
      ],
      "metadata": {
        "colab": {
          "base_uri": "https://localhost:8080/"
        },
        "id": "IU36iNRyrvi4",
        "outputId": "1c87d376-b85f-4070-d98f-6ffeecada36b"
      },
      "execution_count": 14,
      "outputs": [
        {
          "output_type": "stream",
          "name": "stdout",
          "text": [
            "       bill_length_mm  bill_depth_mm  flipper_length_mm  body_mass_g\n",
            "count      344.000000     344.000000         344.000000   344.000000\n",
            "mean        43.925000      17.152035         200.892442  4200.872093\n",
            "std          5.443792       1.969060          14.023826   799.696532\n",
            "min         32.100000      13.100000         172.000000  2700.000000\n",
            "25%         39.275000      15.600000         190.000000  3550.000000\n",
            "50%         44.450000      17.300000         197.000000  4050.000000\n",
            "75%         48.500000      18.700000         213.000000  4750.000000\n",
            "max         59.600000      21.500000         231.000000  6300.000000\n"
          ]
        }
      ]
    },
    {
      "cell_type": "markdown",
      "source": [
        "we can compare these stats to the original dataset — now the min and max values are more \"realistic\", and extreme values are trimmed.\n",
        "\n"
      ],
      "metadata": {
        "id": "MF0f9HEysBTd"
      }
    },
    {
      "cell_type": "markdown",
      "source": [
        "#  **Step 4: Encoding Categorical Variables**\n",
        "Machine learning models can't handle text or categories directly. We need to convert categorical data into numerical format.\n",
        "\n",
        "There are two common techniques:\n",
        "\n",
        "1.  Label Encoding that Assigns a number to each category (useful for binary or ordinal data).\n",
        "\n",
        "2.  One-Hot Encoding that Creates separate binary columns for each category (useful for nominal data).\n",
        "\n"
      ],
      "metadata": {
        "id": "KBiIu4pxsRxS"
      }
    },
    {
      "cell_type": "code",
      "source": [
        "#Identify Categorical Columns\n",
        "categorical_cols = df.select_dtypes(include=['object', 'category']).columns\n",
        "print(categorical_cols)\n"
      ],
      "metadata": {
        "colab": {
          "base_uri": "https://localhost:8080/"
        },
        "id": "puGu4D0ar7Ga",
        "outputId": "04ea1bff-d824-4d96-86c2-d0e6f28385a6"
      },
      "execution_count": 15,
      "outputs": [
        {
          "output_type": "stream",
          "name": "stdout",
          "text": [
            "Index(['species', 'island', 'sex'], dtype='object')\n"
          ]
        }
      ]
    },
    {
      "cell_type": "code",
      "source": [
        "#Apply Label Encoding\n",
        "from sklearn.preprocessing import LabelEncoder\n",
        "\n",
        "le = LabelEncoder()\n",
        "for col in categorical_cols:\n",
        "    df[col] = le.fit_transform(df[col])\n"
      ],
      "metadata": {
        "id": "1G3T5rcvs_gx"
      },
      "execution_count": 16,
      "outputs": []
    },
    {
      "cell_type": "code",
      "source": [
        "#Confirm Encoding\n",
        "print(df.head())\n",
        "\n"
      ],
      "metadata": {
        "colab": {
          "base_uri": "https://localhost:8080/"
        },
        "id": "1iR4omAWtXfu",
        "outputId": "f1146340-ff48-4c9a-afa6-49b1294b0ac1"
      },
      "execution_count": 17,
      "outputs": [
        {
          "output_type": "stream",
          "name": "stdout",
          "text": [
            "   species  island  bill_length_mm  bill_depth_mm  flipper_length_mm  \\\n",
            "0        0       2           39.10           18.7              181.0   \n",
            "1        0       2           39.50           17.4              186.0   \n",
            "2        0       2           40.30           18.0              195.0   \n",
            "3        0       2           44.45           17.3              197.0   \n",
            "4        0       2           36.70           19.3              193.0   \n",
            "\n",
            "   body_mass_g  sex  \n",
            "0       3750.0    1  \n",
            "1       3800.0    0  \n",
            "2       3250.0    0  \n",
            "3       4050.0    1  \n",
            "4       3450.0    0  \n"
          ]
        }
      ]
    },
    {
      "cell_type": "markdown",
      "source": [
        "# **Step 5: Normalization & Standardization**\n",
        "Many machine learning algorithms (like KNN, SVM, gradient descent-based models) perform better when features are on the same scale.\n",
        "\n",
        "We’ll create two versions of the dataset:\n",
        "\n",
        "1. Normalized: Values scaled between 0 and 1\n",
        "\n",
        "2. Standardized: Values have mean = 0 and std deviation = 1"
      ],
      "metadata": {
        "id": "A4oDGxGHtzf_"
      }
    },
    {
      "cell_type": "code",
      "source": [
        " #Identify Numeric Columns\n",
        " from sklearn.preprocessing import MinMaxScaler, StandardScaler\n",
        "\n",
        "# Select numeric columns\n",
        "numeric_cols = df.select_dtypes(include=['float64', 'int64']).columns.tolist()\n"
      ],
      "metadata": {
        "id": "KpLJPRV9th_H"
      },
      "execution_count": 18,
      "outputs": []
    },
    {
      "cell_type": "code",
      "source": [
        "# Apply Normalization (MinMaxScaler)\n",
        "scaler_norm = MinMaxScaler()\n",
        "df_norm = df.copy()\n",
        "df_norm[numeric_cols] = scaler_norm.fit_transform(df[numeric_cols])\n"
      ],
      "metadata": {
        "id": "aq80oXABuRyL"
      },
      "execution_count": 19,
      "outputs": []
    },
    {
      "cell_type": "code",
      "source": [
        "# Apply Standardization (StandardScaler)\n",
        "scaler_std = StandardScaler()\n",
        "df_std = df.copy()\n",
        "df_std[numeric_cols] = scaler_std.fit_transform(df[numeric_cols])\n"
      ],
      "metadata": {
        "id": "MOPcXt0Tucu7"
      },
      "execution_count": 20,
      "outputs": []
    },
    {
      "cell_type": "code",
      "source": [
        "#Confirm the Result\n",
        "print(\"Normalized Data Sample:\\n\", df_norm.head())\n",
        "print(\"\\nStandardized Data Sample:\\n\", df_std.head())\n"
      ],
      "metadata": {
        "colab": {
          "base_uri": "https://localhost:8080/"
        },
        "id": "6znsPlxSukE-",
        "outputId": "af905d9b-e405-42a8-b421-a5ecf1c81539"
      },
      "execution_count": 21,
      "outputs": [
        {
          "output_type": "stream",
          "name": "stdout",
          "text": [
            "Normalized Data Sample:\n",
            "    species  island  bill_length_mm  bill_depth_mm  flipper_length_mm  \\\n",
            "0      0.0     1.0        0.254545       0.666667           0.152542   \n",
            "1      0.0     1.0        0.269091       0.511905           0.237288   \n",
            "2      0.0     1.0        0.298182       0.583333           0.389831   \n",
            "3      0.0     1.0        0.449091       0.500000           0.423729   \n",
            "4      0.0     1.0        0.167273       0.738095           0.355932   \n",
            "\n",
            "   body_mass_g  sex  \n",
            "0     0.291667  1.0  \n",
            "1     0.305556  0.0  \n",
            "2     0.152778  0.0  \n",
            "3     0.375000  1.0  \n",
            "4     0.208333  0.0  \n",
            "\n",
            "Standardized Data Sample:\n",
            "     species    island  bill_length_mm  bill_depth_mm  flipper_length_mm  \\\n",
            "0 -1.029802  1.844076       -0.887622       0.787289          -1.420541   \n",
            "1 -1.029802  1.844076       -0.814037       0.126114          -1.063485   \n",
            "2 -1.029802  1.844076       -0.666866       0.431272          -0.420786   \n",
            "3 -1.029802  1.844076        0.096581       0.075255          -0.277964   \n",
            "4 -1.029802  1.844076       -1.329133       1.092447          -0.563608   \n",
            "\n",
            "   body_mass_g       sex  \n",
            "0    -0.564625  0.960098  \n",
            "1    -0.502010 -1.041561  \n",
            "2    -1.190773 -1.041561  \n",
            "3    -0.188936  0.960098  \n",
            "4    -0.940314 -1.041561  \n"
          ]
        }
      ]
    },
    {
      "cell_type": "markdown",
      "source": [
        "All numeric values in df_norm are in range [0, 1]\n",
        "\n",
        "All numeric values in df_std are centered around 0"
      ],
      "metadata": {
        "id": "iyJM7WK2u02-"
      }
    },
    {
      "cell_type": "code",
      "source": [],
      "metadata": {
        "id": "bUMCdGMGuqZ7"
      },
      "execution_count": null,
      "outputs": []
    }
  ]
}